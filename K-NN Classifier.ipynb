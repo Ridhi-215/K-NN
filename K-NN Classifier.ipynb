{
 "cells": [
  {
   "cell_type": "markdown",
   "id": "857b19e5-06f8-41d7-9e6b-099e902646bd",
   "metadata": {},
   "source": [
    "# K-NN Classifier Implementation"
   ]
  },
  {
   "cell_type": "markdown",
   "id": "16e29cbe-ebcd-4931-8d23-4a8535b7fd65",
   "metadata": {},
   "source": [
    "### 1. Loading and Preprocessing the Dataset"
   ]
  },
  {
   "cell_type": "code",
   "execution_count": 3,
   "id": "47a91e65-815b-4a26-be41-30832b9133d5",
   "metadata": {},
   "outputs": [],
   "source": [
    "import numpy as np\n",
    "import pandas as pd"
   ]
  },
  {
   "cell_type": "code",
   "execution_count": 4,
   "id": "503f56d7-9c99-4ab0-b019-41b5af24a7fa",
   "metadata": {},
   "outputs": [],
   "source": [
    "# Load the dataset\n",
    "car_data = pd.read_csv(r\"C:\\Users\\guntu\\Downloads\\car_data.csv\")"
   ]
  },
  {
   "cell_type": "markdown",
   "id": "f9f26029-16ef-4fd9-b2f4-1d2f8987d917",
   "metadata": {},
   "source": [
    "##### Drop 'User ID' and encode 'Gender' column as 0 (Female) and 1 (Male)"
   ]
  },
  {
   "cell_type": "code",
   "execution_count": 6,
   "id": "4d584308-d571-44b1-86ea-56237600d220",
   "metadata": {},
   "outputs": [],
   "source": [
    "car_data['Gender'] = car_data['Gender'].apply(lambda x: 1 if x == 'Male' else 0)\n",
    "car_data = car_data.drop('User ID', axis=1)\n"
   ]
  },
  {
   "cell_type": "code",
   "execution_count": 7,
   "id": "b8ebe021-810f-4d15-bc0b-11f4defa6fac",
   "metadata": {},
   "outputs": [],
   "source": [
    "# Split data into features (X) and target (y)\n",
    "X = car_data[['Gender', 'Age', 'AnnualSalary']].values\n",
    "y = car_data['Purchased'].values"
   ]
  },
  {
   "cell_type": "markdown",
   "id": "f4d6ae25-e2b0-441f-90f9-d506597b2f0f",
   "metadata": {},
   "source": [
    "### 2. Splitting the Data into Train and Test Sets"
   ]
  },
  {
   "cell_type": "code",
   "execution_count": 9,
   "id": "4adbd582-f757-4ba1-b9c5-95c0f9a44faa",
   "metadata": {},
   "outputs": [],
   "source": [
    "# Function to split data into train and test sets\n",
    "def train_test_split(X, y, test_size=0.2):\n",
    "    indices = np.arange(X.shape[0])\n",
    "    np.random.shuffle(indices)\n",
    "    split_idx = int(X.shape[0] * (1 - test_size))\n",
    "    train_idx, test_idx = indices[:split_idx], indices[split_idx:]\n",
    "    return X[train_idx], X[test_idx], y[train_idx], y[test_idx]\n",
    "\n",
    "# Split the dataset into training and testing sets\n",
    "X_train, X_test, y_train, y_test = train_test_split(X, y)\n"
   ]
  },
  {
   "cell_type": "markdown",
   "id": "e8f19c0a-9217-46b1-88d8-d88ff72971be",
   "metadata": {},
   "source": [
    "### 3. Implementing the K-NN Classifier"
   ]
  },
  {
   "cell_type": "code",
   "execution_count": 11,
   "id": "9e84094d-8b35-4137-a8da-03a2869e8f9a",
   "metadata": {},
   "outputs": [],
   "source": [
    "# Euclidean distance calculation\n",
    "def euclidean_distance(x1, x2):\n",
    "    return np.sqrt(np.sum((x1 - x2) ** 2))"
   ]
  },
  {
   "cell_type": "code",
   "execution_count": 12,
   "id": "841463b7-545d-4087-9ae4-33fe10141b7b",
   "metadata": {},
   "outputs": [],
   "source": [
    "# K-NN algorithm without using external libraries like Counter\n",
    "def knn_classifier(X_train, y_train, X_test, k):\n",
    "    y_pred = []\n",
    "    for test_point in X_test:\n",
    "        # Compute distances from the test point to all training points\n",
    "        distances = [euclidean_distance(test_point, x_train) for x_train in X_train]\n",
    "        \n",
    "        # Get the indices of the k-nearest neighbors\n",
    "        k_indices = np.argsort(distances)[:k]\n",
    "        \n",
    "        # Get the corresponding labels of the nearest neighbors\n",
    "        k_nearest_labels = [y_train[i] for i in k_indices]\n",
    "        \n",
    "        # Manual majority voting\n",
    "        label_count = {}\n",
    "        for label in k_nearest_labels:\n",
    "            if label in label_count:\n",
    "                label_count[label] += 1\n",
    "            else:\n",
    "                label_count[label] = 1\n",
    "        \n",
    "        # Determine the class with the highest count (majority voting)\n",
    "        majority_class = max(label_count, key=label_count.get)\n",
    "        y_pred.append(majority_class)\n",
    "    \n",
    "    return np.array(y_pred)\n"
   ]
  },
  {
   "cell_type": "markdown",
   "id": "abe78d54-c7d6-4037-9dfa-3fa9fa8f68c8",
   "metadata": {},
   "source": [
    "### 4. Evaluating the Model (Accuracy and Confusion Matrix)"
   ]
  },
  {
   "cell_type": "code",
   "execution_count": 14,
   "id": "c41b8695-640d-44da-b624-6285bb6ed050",
   "metadata": {},
   "outputs": [],
   "source": [
    "# Function to compute accuracy\n",
    "def compute_accuracy(y_true, y_pred):\n",
    "    return np.sum(y_true == y_pred) / len(y_true)\n",
    "\n",
    "# Function to compute confusion matrix\n",
    "def confusion_matrix(y_true, y_pred):\n",
    "    tp = np.sum((y_true == 1) & (y_pred == 1))\n",
    "    tn = np.sum((y_true == 0) & (y_pred == 0))\n",
    "    fp = np.sum((y_true == 0) & (y_pred == 1))\n",
    "    fn = np.sum((y_true == 1) & (y_pred == 0))\n",
    "    return np.array([[tn, fp], [fn, tp]])\n"
   ]
  },
  {
   "cell_type": "code",
   "execution_count": 15,
   "id": "b7da2864-c125-4f3f-9aaf-f67e268cbfd3",
   "metadata": {},
   "outputs": [
    {
     "name": "stdout",
     "output_type": "stream",
     "text": [
      "Accuracy: 0.81\n"
     ]
    }
   ],
   "source": [
    "# Test the K-NN Classifier with k=5\n",
    "k = 5\n",
    "y_pred = knn_classifier(X_train, y_train, X_test, k)\n",
    "\n",
    "# Compute accuracy \n",
    "accuracy = compute_accuracy(y_test, y_pred)\n",
    "print(f\"Accuracy: {accuracy}\")"
   ]
  },
  {
   "cell_type": "code",
   "execution_count": 16,
   "id": "a63d343d-dd7a-46e8-97fa-1dc62819d86f",
   "metadata": {},
   "outputs": [
    {
     "name": "stdout",
     "output_type": "stream",
     "text": [
      "Confusion Matrix:\n",
      "[[104  12]\n",
      " [ 26  58]]\n"
     ]
    }
   ],
   "source": [
    "# Compute  confusion matrix\n",
    "conf_matrix = confusion_matrix(y_test, y_pred)\n",
    "print(f\"Confusion Matrix:\\n{conf_matrix}\")"
   ]
  },
  {
   "cell_type": "markdown",
   "id": "d7f40b6c-483f-4ab6-af55-b4735edda9af",
   "metadata": {},
   "source": [
    "### 5. Examining the Effect of K on Accuracy"
   ]
  },
  {
   "cell_type": "code",
   "execution_count": 18,
   "id": "6bbeb9df-cd06-4f4a-9093-a2b379a97764",
   "metadata": {},
   "outputs": [
    {
     "data": {
      "image/png": "[encoded data removed]",
      "text/plain": [
       "<Figure size 640x480 with 1 Axes>"
      ]
     },
     "metadata": {},
     "output_type": "display_data"
    }
   ],
   "source": [
    "import matplotlib.pyplot as plt\n",
    "# Test the K-NN Classifier for different values of k and store the accuracies\n",
    "k_values = range(1, 20)\n",
    "accuracies = []\n",
    "\n",
    "for k in k_values:\n",
    "    y_pred = knn_classifier(X_train, y_train, X_test, k)\n",
    "    accuracy = compute_accuracy(y_test, y_pred)\n",
    "    accuracies.append(accuracy)\n",
    "\n",
    "# Plot k vs accuracy\n",
    "plt.plot(k_values, accuracies, marker='o')\n",
    "plt.xlabel('k (Number of Neighbors)')\n",
    "plt.ylabel('Accuracy')\n",
    "plt.title('K vs Accuracy')\n",
    "plt.show()"
   ]
  },
  {
   "cell_type": "code",
   "execution_count": 19,
   "id": "9c3a43d2-1f35-4dc7-ad50-5d9e7bb938d1",
   "metadata": {},
   "outputs": [
    {
     "name": "stdout",
     "output_type": "stream",
     "text": [
      "Best value of k: 11\n"
     ]
    }
   ],
   "source": [
    "# Find the best k for maximum accuracy\n",
    "best_k = k_values[np.argmax(accuracies)]\n",
    "print(f\"Best value of k: {best_k}\")"
   ]
  },
  {
   "cell_type": "code",
   "execution_count": null,
   "id": "d30a6ad4-ec41-4ce9-9562-c76c05e7c358",
   "metadata": {},
   "outputs": [],
   "source": []
  }
 ],
 "metadata": {
  "kernelspec": {
   "display_name": "Python 3 (ipykernel)",
   "language": "python",
   "name": "python3"
  },
  "language_info": {
   "codemirror_mode": {
    "name": "ipython",
    "version": 3
   },
   "file_extension": ".py",
   "mimetype": "text/x-python",
   "name": "python",
   "nbconvert_exporter": "python",
   "pygments_lexer": "ipython3",
   "version": "3.12.4"
  }
 },
 "nbformat": 4,
 "nbformat_minor": 5
}
